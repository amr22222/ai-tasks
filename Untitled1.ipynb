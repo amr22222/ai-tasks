{
 "cells": [
  {
   "cell_type": "markdown",
   "id": "f3b34781",
   "metadata": {},
   "source": [
    "# python variables"
   ]
  },
  {
   "cell_type": "code",
   "execution_count": 3,
   "id": "96528acb",
   "metadata": {},
   "outputs": [
    {
     "name": "stdout",
     "output_type": "stream",
     "text": [
      "volvo\n"
     ]
    }
   ],
   "source": [
    "car_name = \"volvo\"\n",
    "print(car_name)"
   ]
  },
  {
   "cell_type": "code",
   "execution_count": 4,
   "id": "a55db289",
   "metadata": {},
   "outputs": [
    {
     "name": "stdout",
     "output_type": "stream",
     "text": [
      "50\n"
     ]
    }
   ],
   "source": [
    "x = 50\n",
    "print(x)"
   ]
  },
  {
   "cell_type": "code",
   "execution_count": 5,
   "id": "642148af",
   "metadata": {},
   "outputs": [
    {
     "name": "stdout",
     "output_type": "stream",
     "text": [
      "15\n"
     ]
    }
   ],
   "source": [
    "x = 5\n",
    "y = 10\n",
    "print(x+y)"
   ]
  },
  {
   "cell_type": "code",
   "execution_count": 6,
   "id": "f98b2219",
   "metadata": {},
   "outputs": [
    {
     "name": "stdout",
     "output_type": "stream",
     "text": [
      "15\n"
     ]
    }
   ],
   "source": [
    "x = 5\n",
    "y = 10\n",
    "z = x+y\n",
    "print(z)"
   ]
  },
  {
   "cell_type": "code",
   "execution_count": 8,
   "id": "294b2fd9",
   "metadata": {},
   "outputs": [
    {
     "name": "stdout",
     "output_type": "stream",
     "text": [
      "john\n"
     ]
    }
   ],
   "source": [
    "# illegal character \n",
    "#2my-first_name = \"john\"\n",
    "myfirst_name = \"john\"\n",
    "print(myfirst_name)"
   ]
  },
  {
   "cell_type": "code",
   "execution_count": 12,
   "id": "30cf5909",
   "metadata": {},
   "outputs": [
    {
     "name": "stdout",
     "output_type": "stream",
     "text": [
      "amr\n",
      "amr\n",
      "amr\n"
     ]
    }
   ],
   "source": [
    "x = y = z = \"amr\"\n",
    "print(x)\n",
    "print(y)\n",
    "print(z)"
   ]
  },
  {
   "cell_type": "code",
   "execution_count": 18,
   "id": "db24ed86",
   "metadata": {},
   "outputs": [
    {
     "name": "stdout",
     "output_type": "stream",
     "text": [
      "python is fantastic\n"
     ]
    }
   ],
   "source": [
    "# global scope \n",
    "def myfunc():\n",
    "    global x\n",
    "x = \"fantastic\"\n",
    "myfunc()\n",
    "print(\"python is \" + x)\n"
   ]
  },
  {
   "cell_type": "markdown",
   "id": "053efa0a",
   "metadata": {},
   "source": [
    "# python data type"
   ]
  },
  {
   "cell_type": "code",
   "execution_count": 19,
   "id": "b444b3a3",
   "metadata": {},
   "outputs": [
    {
     "name": "stdout",
     "output_type": "stream",
     "text": [
      "<class 'int'>\n"
     ]
    }
   ],
   "source": [
    "x = 5\n",
    "print(type(x))"
   ]
  },
  {
   "cell_type": "code",
   "execution_count": 22,
   "id": "8e1bfe14",
   "metadata": {},
   "outputs": [
    {
     "name": "stdout",
     "output_type": "stream",
     "text": [
      "<class 'str'>\n"
     ]
    }
   ],
   "source": [
    "x = \"hello world\"\n",
    "print(type(x))"
   ]
  },
  {
   "cell_type": "code",
   "execution_count": 23,
   "id": "31c48408",
   "metadata": {},
   "outputs": [
    {
     "name": "stdout",
     "output_type": "stream",
     "text": [
      "<class 'float'>\n"
     ]
    }
   ],
   "source": [
    "x = 20.5\n",
    "print(type(x))"
   ]
  },
  {
   "cell_type": "code",
   "execution_count": 24,
   "id": "c481d8e1",
   "metadata": {},
   "outputs": [
    {
     "name": "stdout",
     "output_type": "stream",
     "text": [
      "<class 'list'>\n"
     ]
    }
   ],
   "source": [
    "x =[\"amr\",\"omar\",\"ahmed\"]\n",
    "print(type(x))"
   ]
  },
  {
   "cell_type": "code",
   "execution_count": 25,
   "id": "0368604f",
   "metadata": {},
   "outputs": [
    {
     "name": "stdout",
     "output_type": "stream",
     "text": [
      "<class 'tuple'>\n"
     ]
    }
   ],
   "source": [
    "x = (\"orange\",\"kabab\",\"ma74i\")\n",
    "print(type(x))"
   ]
  },
  {
   "cell_type": "code",
   "execution_count": 26,
   "id": "c7bc0ac1",
   "metadata": {},
   "outputs": [
    {
     "name": "stdout",
     "output_type": "stream",
     "text": [
      "<class 'dict'>\n"
     ]
    }
   ],
   "source": [
    "x ={\"name\":\"amr\",\"age\":50}\n",
    "print(type(x))"
   ]
  },
  {
   "cell_type": "code",
   "execution_count": 27,
   "id": "4134c5ef",
   "metadata": {},
   "outputs": [
    {
     "name": "stdout",
     "output_type": "stream",
     "text": [
      "<class 'bool'>\n"
     ]
    }
   ],
   "source": [
    "x = True\n",
    "print(type(x))"
   ]
  },
  {
   "cell_type": "code",
   "execution_count": 29,
   "id": "9e259865",
   "metadata": {},
   "outputs": [
    {
     "name": "stdout",
     "output_type": "stream",
     "text": [
      "5.0\n"
     ]
    }
   ],
   "source": [
    "x = 5\n",
    "x = float(x)\n",
    "print(x)"
   ]
  },
  {
   "cell_type": "code",
   "execution_count": 30,
   "id": "6344b7fc",
   "metadata": {},
   "outputs": [
    {
     "name": "stdout",
     "output_type": "stream",
     "text": [
      "5\n"
     ]
    }
   ],
   "source": [
    "x = 5.5\n",
    "x = int(x)\n",
    "print(x)"
   ]
  },
  {
   "cell_type": "code",
   "execution_count": 31,
   "id": "09864f63",
   "metadata": {},
   "outputs": [
    {
     "name": "stdout",
     "output_type": "stream",
     "text": [
      "(5+0j)\n"
     ]
    }
   ],
   "source": [
    "x = 5 \n",
    "x = complex(x)\n",
    "print(x)"
   ]
  },
  {
   "cell_type": "markdown",
   "id": "2d1bf995",
   "metadata": {},
   "source": [
    "# python strings"
   ]
  },
  {
   "cell_type": "code",
   "execution_count": 32,
   "id": "7306499a",
   "metadata": {},
   "outputs": [
    {
     "name": "stdout",
     "output_type": "stream",
     "text": [
      "amr\n"
     ]
    }
   ],
   "source": [
    "x = \"amr\"\n",
    "print(x)"
   ]
  },
  {
   "cell_type": "code",
   "execution_count": 33,
   "id": "3e347ac4",
   "metadata": {},
   "outputs": [
    {
     "name": "stdout",
     "output_type": "stream",
     "text": [
      "h\n"
     ]
    }
   ],
   "source": [
    "txt = \"hello world\"\n",
    "x = txt[0]\n",
    "print(x)"
   ]
  },
  {
   "cell_type": "code",
   "execution_count": 34,
   "id": "846af044",
   "metadata": {},
   "outputs": [
    {
     "name": "stdout",
     "output_type": "stream",
     "text": [
      "ll\n"
     ]
    }
   ],
   "source": [
    "txt = \"hello world\"\n",
    "x = txt[2:4]\n",
    "print(x)"
   ]
  },
  {
   "cell_type": "code",
   "execution_count": 35,
   "id": "362f5751",
   "metadata": {},
   "outputs": [
    {
     "name": "stdout",
     "output_type": "stream",
     "text": [
      "hello wolrd\n"
     ]
    }
   ],
   "source": [
    "txt = \" hello wolrd \"\n",
    "x = txt.strip()\n",
    "print(x)"
   ]
  },
  {
   "cell_type": "code",
   "execution_count": 38,
   "id": "b1baa6e6",
   "metadata": {},
   "outputs": [
    {
     "name": "stdout",
     "output_type": "stream",
     "text": [
      "HELLO WORLD\n"
     ]
    }
   ],
   "source": [
    "txt = \"hello world\"\n",
    "txt = txt.upper()\n",
    "print(txt)"
   ]
  },
  {
   "cell_type": "code",
   "execution_count": 39,
   "id": "cc7c2446",
   "metadata": {},
   "outputs": [
    {
     "name": "stdout",
     "output_type": "stream",
     "text": [
      "hello world\n"
     ]
    }
   ],
   "source": [
    "txt = \"hello world\"\n",
    "txt = txt.lower()\n",
    "print(txt)"
   ]
  },
  {
   "cell_type": "code",
   "execution_count": 40,
   "id": "be25e98d",
   "metadata": {},
   "outputs": [
    {
     "name": "stdout",
     "output_type": "stream",
     "text": [
      "jello world\n"
     ]
    }
   ],
   "source": [
    "txt = \"hello world\"\n",
    "txt = txt.replace(\"h\",\"j\")\n",
    "print(txt)"
   ]
  },
  {
   "cell_type": "code",
   "execution_count": 2,
   "id": "5d6cce34",
   "metadata": {},
   "outputs": [
    {
     "name": "stdout",
     "output_type": "stream",
     "text": [
      "my name is amr , and im 36\n"
     ]
    }
   ],
   "source": [
    "age = 36 \n",
    "txt = \"my name is amr , and im {}\"\n",
    "print(txt.format(age))"
   ]
  },
  {
   "cell_type": "markdown",
   "id": "f569dc21",
   "metadata": {},
   "source": [
    "# python booleans"
   ]
  },
  {
   "cell_type": "code",
   "execution_count": 3,
   "id": "968ebc6d",
   "metadata": {},
   "outputs": [
    {
     "name": "stdout",
     "output_type": "stream",
     "text": [
      "True\n"
     ]
    }
   ],
   "source": [
    "print(10>5)"
   ]
  },
  {
   "cell_type": "code",
   "execution_count": 4,
   "id": "f8e5bb66",
   "metadata": {},
   "outputs": [
    {
     "name": "stdout",
     "output_type": "stream",
     "text": [
      "False\n"
     ]
    }
   ],
   "source": [
    "print(10==9)"
   ]
  },
  {
   "cell_type": "code",
   "execution_count": 5,
   "id": "a7ef10c0",
   "metadata": {},
   "outputs": [
    {
     "name": "stdout",
     "output_type": "stream",
     "text": [
      "False\n"
     ]
    }
   ],
   "source": [
    "print(10<5)"
   ]
  },
  {
   "cell_type": "code",
   "execution_count": 6,
   "id": "54ffd769",
   "metadata": {},
   "outputs": [
    {
     "name": "stdout",
     "output_type": "stream",
     "text": [
      "True\n"
     ]
    }
   ],
   "source": [
    "print(bool(\"abc\"))"
   ]
  },
  {
   "cell_type": "code",
   "execution_count": 7,
   "id": "0edf933f",
   "metadata": {},
   "outputs": [
    {
     "name": "stdout",
     "output_type": "stream",
     "text": [
      "False\n"
     ]
    }
   ],
   "source": [
    "print(bool(0))"
   ]
  },
  {
   "cell_type": "markdown",
   "id": "653b9629",
   "metadata": {},
   "source": [
    "# python operators"
   ]
  },
  {
   "cell_type": "code",
   "execution_count": 8,
   "id": "880db09e",
   "metadata": {},
   "outputs": [
    {
     "name": "stdout",
     "output_type": "stream",
     "text": [
      "50\n"
     ]
    }
   ],
   "source": [
    "print(10*5)"
   ]
  },
  {
   "cell_type": "code",
   "execution_count": 9,
   "id": "2a249cef",
   "metadata": {},
   "outputs": [
    {
     "name": "stdout",
     "output_type": "stream",
     "text": [
      "5.0\n"
     ]
    }
   ],
   "source": [
    "print(10/2)"
   ]
  },
  {
   "cell_type": "code",
   "execution_count": 11,
   "id": "568b9619",
   "metadata": {},
   "outputs": [
    {
     "name": "stdout",
     "output_type": "stream",
     "text": [
      "yes,apple is a fruit\n"
     ]
    }
   ],
   "source": [
    "fruits = [\"apple\",\"orange\"]\n",
    "if \"apple\"in fruits:\n",
    "    print(\"yes,apple is a fruit\")"
   ]
  },
  {
   "cell_type": "code",
   "execution_count": 12,
   "id": "2139f25a",
   "metadata": {},
   "outputs": [
    {
     "name": "stdout",
     "output_type": "stream",
     "text": [
      "yes,5 is not equal 10\n"
     ]
    }
   ],
   "source": [
    "if 5!=10:\n",
    "    print(\"yes,5 is not equal 10\")"
   ]
  },
  {
   "cell_type": "code",
   "execution_count": 13,
   "id": "eaab4d9f",
   "metadata": {},
   "outputs": [
    {
     "name": "stdout",
     "output_type": "stream",
     "text": [
      "at least one of the statments is true\n"
     ]
    }
   ],
   "source": [
    "if 10==5 or 5==5:\n",
    "    print(\"at least one of the statments is true\")"
   ]
  },
  {
   "cell_type": "markdown",
   "id": "0173653b",
   "metadata": {},
   "source": [
    "# python lists"
   ]
  },
  {
   "cell_type": "code",
   "execution_count": 14,
   "id": "369f479a",
   "metadata": {},
   "outputs": [
    {
     "name": "stdout",
     "output_type": "stream",
     "text": [
      "orange\n"
     ]
    }
   ],
   "source": [
    "fruits =[\"apple\",\"orange\",\"banana\"]\n",
    "print(fruits[1])"
   ]
  },
  {
   "cell_type": "code",
   "execution_count": 16,
   "id": "7f45dace",
   "metadata": {},
   "outputs": [
    {
     "name": "stdout",
     "output_type": "stream",
     "text": [
      "kiwi\n"
     ]
    }
   ],
   "source": [
    "fruits = [\"apple\",\"orange\",\"banana\"]\n",
    "fruits[0] = \"kiwi\"\n",
    "print(fruits[0])"
   ]
  },
  {
   "cell_type": "code",
   "execution_count": 18,
   "id": "185f1ebb",
   "metadata": {},
   "outputs": [
    {
     "name": "stdout",
     "output_type": "stream",
     "text": [
      "['apple', 'orange', 'cherry', 'kiwi']\n"
     ]
    }
   ],
   "source": [
    "fruits = [\"apple\",\"orange\",\"cherry\"]\n",
    "fruits.append(\"kiwi\")\n",
    "print(fruits)"
   ]
  },
  {
   "cell_type": "code",
   "execution_count": 20,
   "id": "ffae5566",
   "metadata": {},
   "outputs": [
    {
     "name": "stdout",
     "output_type": "stream",
     "text": [
      "['cherry', 'apple', 'orange', 'kiwi']\n"
     ]
    }
   ],
   "source": [
    "fruits = [\"apple\",\"orange\",\"kiwi\"]\n",
    "fruits.insert(0,\"cherry\")\n",
    "print(fruits)"
   ]
  },
  {
   "cell_type": "code",
   "execution_count": 22,
   "id": "76bad587",
   "metadata": {},
   "outputs": [
    {
     "name": "stdout",
     "output_type": "stream",
     "text": [
      "['apple', 'cherry']\n"
     ]
    }
   ],
   "source": [
    "fruits = [\"apple\",\"banana\",\"cherry\"]\n",
    "fruits.remove(\"banana\")\n",
    "print(fruits)"
   ]
  },
  {
   "cell_type": "code",
   "execution_count": 23,
   "id": "b20fedec",
   "metadata": {},
   "outputs": [
    {
     "name": "stdout",
     "output_type": "stream",
     "text": [
      "banana\n"
     ]
    }
   ],
   "source": [
    "fruits = [\"apple\",\"cherry\",\"banana\"]\n",
    "print(fruits[-1])"
   ]
  },
  {
   "cell_type": "code",
   "execution_count": 24,
   "id": "129d6ef8",
   "metadata": {},
   "outputs": [
    {
     "name": "stdout",
     "output_type": "stream",
     "text": [
      "['cherry', 'kiwi', 'kabda']\n"
     ]
    }
   ],
   "source": [
    "fruits = [\"apple\",\"mango\",\"cherry\",\"kiwi\",\"kabda\",\"kabab\"]\n",
    "print(fruits[2:5])"
   ]
  },
  {
   "cell_type": "code",
   "execution_count": 25,
   "id": "26ebfea8",
   "metadata": {},
   "outputs": [
    {
     "name": "stdout",
     "output_type": "stream",
     "text": [
      "3\n"
     ]
    }
   ],
   "source": [
    "fruits =[\"apple\",\"orange\",\"mango\"]\n",
    "print(len(fruits))"
   ]
  },
  {
   "cell_type": "markdown",
   "id": "51c792e5",
   "metadata": {},
   "source": [
    "# python tuples"
   ]
  },
  {
   "cell_type": "code",
   "execution_count": 26,
   "id": "d9a870f8",
   "metadata": {},
   "outputs": [
    {
     "name": "stdout",
     "output_type": "stream",
     "text": [
      "amr\n"
     ]
    }
   ],
   "source": [
    "names = (\"amr\",\"oamr\",\"ahmed\")\n",
    "print(names[0])"
   ]
  },
  {
   "cell_type": "code",
   "execution_count": 31,
   "id": "67a7d5d8",
   "metadata": {},
   "outputs": [
    {
     "name": "stdout",
     "output_type": "stream",
     "text": [
      "3\n"
     ]
    }
   ],
   "source": [
    "names = (\"amr\",\"omar\",\"ahmed\")\n",
    "print(len(names))"
   ]
  },
  {
   "cell_type": "code",
   "execution_count": 34,
   "id": "4c4f6122",
   "metadata": {},
   "outputs": [
    {
     "name": "stdout",
     "output_type": "stream",
     "text": [
      "ahmed\n"
     ]
    }
   ],
   "source": [
    "names =(\"amr\",\"omar\",\"ahmed\")\n",
    "print(names[-1])\n"
   ]
  },
  {
   "cell_type": "code",
   "execution_count": 36,
   "id": "c7f03d1d",
   "metadata": {},
   "outputs": [
    {
     "name": "stdout",
     "output_type": "stream",
     "text": [
      "('omar', 'ahmed', 'bo7san')\n"
     ]
    }
   ],
   "source": [
    "names = (\"amr\",\"omar\",\"ahmed\",\"bo7san\")\n",
    "print(names[1:4])"
   ]
  },
  {
   "cell_type": "markdown",
   "id": "05c0d09c",
   "metadata": {},
   "source": [
    "# python sets"
   ]
  },
  {
   "cell_type": "code",
   "execution_count": 39,
   "id": "05805280",
   "metadata": {},
   "outputs": [
    {
     "name": "stdout",
     "output_type": "stream",
     "text": [
      "yes\n"
     ]
    }
   ],
   "source": [
    "names ={\"amr\",\"oamr\",\"ahmed\"}\n",
    "if \"amr\" in names:\n",
    "    print(\"yes\")"
   ]
  },
  {
   "cell_type": "code",
   "execution_count": 43,
   "id": "47cdc0de",
   "metadata": {},
   "outputs": [
    {
     "name": "stdout",
     "output_type": "stream",
     "text": [
      "{'ahmed', 'omar', 'bo7san', 'amr'}\n"
     ]
    }
   ],
   "source": [
    "names = {\"amr\",\"omar\",\"ahmed\"}\n",
    "names. add(\"bo7san\")\n",
    "print(names)"
   ]
  },
  {
   "cell_type": "code",
   "execution_count": 44,
   "id": "d695c57b",
   "metadata": {},
   "outputs": [
    {
     "name": "stdout",
     "output_type": "stream",
     "text": [
      "{'omar', 'homos', 'jimmy', 'amr', 'khaled', 'loda'}\n"
     ]
    }
   ],
   "source": [
    "names ={\"amr\",\"omar\",\"khaled\"}\n",
    "more_names = [\"loda\",'jimmy',\"homos\"]\n",
    "names.update(more_names)\n",
    "print(names)"
   ]
  },
  {
   "cell_type": "code",
   "execution_count": 45,
   "id": "5e0a1c97",
   "metadata": {},
   "outputs": [
    {
     "name": "stdout",
     "output_type": "stream",
     "text": [
      "{'omar', 'khaled'}\n"
     ]
    }
   ],
   "source": [
    "names = {\"amr\",\"omar\",\"khaled\"}\n",
    "names.remove(\"amr\")\n",
    "print(names)"
   ]
  },
  {
   "cell_type": "code",
   "execution_count": 46,
   "id": "5e2f08d1",
   "metadata": {},
   "outputs": [
    {
     "name": "stdout",
     "output_type": "stream",
     "text": [
      "{'ahmed', 'amr'}\n"
     ]
    }
   ],
   "source": [
    "names = {\"amr\",\"omar\",\"ahmed\"}\n",
    "names.discard(\"omar\")\n",
    "print(names)"
   ]
  },
  {
   "cell_type": "markdown",
   "id": "a2ff7937",
   "metadata": {},
   "source": [
    "# python dictionaries"
   ]
  },
  {
   "cell_type": "code",
   "execution_count": 55,
   "id": "0076f8eb",
   "metadata": {},
   "outputs": [
    {
     "name": "stdout",
     "output_type": "stream",
     "text": [
      "mustang\n",
      "1964\n",
      "2020\n",
      "red\n",
      "model\n",
      "brand\n"
     ]
    }
   ],
   "source": [
    "car = {\"brand\":\"ford\",\n",
    "      \"model\":\"mustang\",\n",
    "      \"year\":1964,\n",
    "      \"color\": \"red\"}\n",
    "print(car.get(\"model\"))\n",
    "print(car.get(\"year\"))\n",
    "car[\"year\"]=2020\n",
    "print(car.get(\"year\"))\n",
    "print(car.get(\"color\"))\n",
    "car.pop(\"model\")\n",
    "print(\"model\")\n",
    "car.clear\n",
    "print(\"brand\")"
   ]
  },
  {
   "cell_type": "markdown",
   "id": "7018f8d9",
   "metadata": {},
   "source": [
    "# python if....else"
   ]
  },
  {
   "cell_type": "code",
   "execution_count": 56,
   "id": "737095d5",
   "metadata": {},
   "outputs": [
    {
     "name": "stdout",
     "output_type": "stream",
     "text": [
      "hello world\n"
     ]
    }
   ],
   "source": [
    "a = 50\n",
    "b = 10\n",
    "if a>b:\n",
    "    print(\"hello world\")"
   ]
  },
  {
   "cell_type": "code",
   "execution_count": 57,
   "id": "7ec9cabb",
   "metadata": {},
   "outputs": [
    {
     "name": "stdout",
     "output_type": "stream",
     "text": [
      "wow\n"
     ]
    }
   ],
   "source": [
    "a = 5\n",
    "b = 1\n",
    "if a!=b:\n",
    "    print(\"wow\")"
   ]
  },
  {
   "cell_type": "code",
   "execution_count": 58,
   "id": "52d0e48d",
   "metadata": {},
   "outputs": [
    {
     "name": "stdout",
     "output_type": "stream",
     "text": [
      "no\n"
     ]
    }
   ],
   "source": [
    "a = 50\n",
    "b = 5\n",
    "if a==b:\n",
    "    print(\"yes\")\n",
    "else :\n",
    "    print(\"no\")"
   ]
  },
  {
   "cell_type": "code",
   "execution_count": 59,
   "id": "2f4b3309",
   "metadata": {},
   "outputs": [
    {
     "name": "stdout",
     "output_type": "stream",
     "text": [
      "2\n"
     ]
    }
   ],
   "source": [
    "a = 50\n",
    "b = 5\n",
    "if a==b:\n",
    "    print(\"1\")\n",
    "if a>b:\n",
    "    print(\"2\")\n",
    "else:\n",
    "    print(\"3\")"
   ]
  },
  {
   "cell_type": "code",
   "execution_count": 62,
   "id": "914f9bfc",
   "metadata": {},
   "outputs": [
    {
     "name": "stdout",
     "output_type": "stream",
     "text": [
      "wal3 el donia\n"
     ]
    }
   ],
   "source": [
    "a=50\n",
    "b=50\n",
    "c=50\n",
    "d=50\n",
    "if a==b and c==d:\n",
    "    print(\"wal3 el donia\")"
   ]
  },
  {
   "cell_type": "code",
   "execution_count": 63,
   "id": "f7b77dfa",
   "metadata": {},
   "outputs": [
    {
     "name": "stdout",
     "output_type": "stream",
     "text": [
      "done\n"
     ]
    }
   ],
   "source": [
    "a = 50\n",
    "b = 50\n",
    "c = 40\n",
    "d = 40\n",
    "if a==b or c==d:\n",
    "    print(\"done\")"
   ]
  },
  {
   "cell_type": "code",
   "execution_count": 65,
   "id": "f1a83ed0",
   "metadata": {},
   "outputs": [
    {
     "name": "stdout",
     "output_type": "stream",
     "text": [
      "five is greater than two\n"
     ]
    }
   ],
   "source": [
    "# short hand syntax\n",
    "if 5 > 2:print(\"five is greater than two\")"
   ]
  },
  {
   "cell_type": "code",
   "execution_count": 66,
   "id": "a527f450",
   "metadata": {},
   "outputs": [
    {
     "name": "stdout",
     "output_type": "stream",
     "text": [
      "yes\n"
     ]
    }
   ],
   "source": [
    "# short hand syntax conditional expression\n",
    "print(\"yes\")if 5 > 2 else print(\"no\")"
   ]
  },
  {
   "cell_type": "code",
   "execution_count": null,
   "id": "2e9318f9",
   "metadata": {},
   "outputs": [],
   "source": []
  },
  {
   "cell_type": "code",
   "execution_count": null,
   "id": "ef712840",
   "metadata": {},
   "outputs": [],
   "source": []
  },
  {
   "cell_type": "code",
   "execution_count": null,
   "id": "5315cdd4",
   "metadata": {},
   "outputs": [],
   "source": []
  },
  {
   "cell_type": "code",
   "execution_count": null,
   "id": "1c6e35f1",
   "metadata": {},
   "outputs": [],
   "source": []
  },
  {
   "cell_type": "code",
   "execution_count": null,
   "id": "59c2c808",
   "metadata": {},
   "outputs": [],
   "source": []
  }
 ],
 "metadata": {
  "kernelspec": {
   "display_name": "Python 3 (ipykernel)",
   "language": "python",
   "name": "python3"
  },
  "language_info": {
   "codemirror_mode": {
    "name": "ipython",
    "version": 3
   },
   "file_extension": ".py",
   "mimetype": "text/x-python",
   "name": "python",
   "nbconvert_exporter": "python",
   "pygments_lexer": "ipython3",
   "version": "3.9.7"
  }
 },
 "nbformat": 4,
 "nbformat_minor": 5
}
